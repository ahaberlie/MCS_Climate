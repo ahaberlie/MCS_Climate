{
 "cells": [
  {
   "cell_type": "markdown",
   "id": "dadb7b35-3edd-4dfc-bba5-ee943cc7b0b7",
   "metadata": {},
   "source": [
    "# Download the files needed for this analysis into the data folder\n",
    "\n",
    "## Manual option (not recommended, use automated method below)"
   ]
  },
  {
   "cell_type": "code",
   "execution_count": 1,
   "id": "b2b99208-0b67-4e14-aab8-d2d38aa4ed8c",
   "metadata": {},
   "outputs": [
    {
     "name": "stdout",
     "output_type": "stream",
     "text": [
      "https://nimbus.niu.edu/climc23/mcs_days/historical_monthly/monthly_mcs_days_historical_1990-1991.nc\n",
      "https://nimbus.niu.edu/climc23/mcs_days/historical_monthly/monthly_mcs_days_historical_1991-1992.nc\n",
      "https://nimbus.niu.edu/climc23/mcs_days/historical_monthly/monthly_mcs_days_historical_1992-1993.nc\n",
      "https://nimbus.niu.edu/climc23/mcs_days/historical_monthly/monthly_mcs_days_historical_1993-1994.nc\n",
      "https://nimbus.niu.edu/climc23/mcs_days/historical_monthly/monthly_mcs_days_historical_1994-1995.nc\n",
      "https://nimbus.niu.edu/climc23/mcs_days/historical_monthly/monthly_mcs_days_historical_1995-1996.nc\n",
      "https://nimbus.niu.edu/climc23/mcs_days/historical_monthly/monthly_mcs_days_historical_1996-1997.nc\n",
      "https://nimbus.niu.edu/climc23/mcs_days/historical_monthly/monthly_mcs_days_historical_1997-1998.nc\n",
      "https://nimbus.niu.edu/climc23/mcs_days/historical_monthly/monthly_mcs_days_historical_1998-1999.nc\n",
      "https://nimbus.niu.edu/climc23/mcs_days/historical_monthly/monthly_mcs_days_historical_1999-2000.nc\n",
      "https://nimbus.niu.edu/climc23/mcs_days/historical_monthly/monthly_mcs_days_historical_2000-2001.nc\n",
      "https://nimbus.niu.edu/climc23/mcs_days/historical_monthly/monthly_mcs_days_historical_2001-2002.nc\n",
      "https://nimbus.niu.edu/climc23/mcs_days/historical_monthly/monthly_mcs_days_historical_2002-2003.nc\n",
      "https://nimbus.niu.edu/climc23/mcs_days/historical_monthly/monthly_mcs_days_historical_2003-2004.nc\n",
      "https://nimbus.niu.edu/climc23/mcs_days/historical_monthly/monthly_mcs_days_historical_2004-2005.nc\n",
      "https://nimbus.niu.edu/climc23/mcs_days/future_4p5_monthly/monthly_mcs_days_future_4p5_2085-2086.nc\n",
      "https://nimbus.niu.edu/climc23/mcs_days/future_4p5_monthly/monthly_mcs_days_future_4p5_2086-2087.nc\n",
      "https://nimbus.niu.edu/climc23/mcs_days/future_4p5_monthly/monthly_mcs_days_future_4p5_2087-2088.nc\n",
      "https://nimbus.niu.edu/climc23/mcs_days/future_4p5_monthly/monthly_mcs_days_future_4p5_2088-2089.nc\n",
      "https://nimbus.niu.edu/climc23/mcs_days/future_4p5_monthly/monthly_mcs_days_future_4p5_2089-2090.nc\n",
      "https://nimbus.niu.edu/climc23/mcs_days/future_4p5_monthly/monthly_mcs_days_future_4p5_2090-2091.nc\n",
      "https://nimbus.niu.edu/climc23/mcs_days/future_4p5_monthly/monthly_mcs_days_future_4p5_2091-2092.nc\n",
      "https://nimbus.niu.edu/climc23/mcs_days/future_4p5_monthly/monthly_mcs_days_future_4p5_2092-2093.nc\n",
      "https://nimbus.niu.edu/climc23/mcs_days/future_4p5_monthly/monthly_mcs_days_future_4p5_2093-2094.nc\n",
      "https://nimbus.niu.edu/climc23/mcs_days/future_4p5_monthly/monthly_mcs_days_future_4p5_2094-2095.nc\n",
      "https://nimbus.niu.edu/climc23/mcs_days/future_4p5_monthly/monthly_mcs_days_future_4p5_2095-2096.nc\n",
      "https://nimbus.niu.edu/climc23/mcs_days/future_4p5_monthly/monthly_mcs_days_future_4p5_2096-2097.nc\n",
      "https://nimbus.niu.edu/climc23/mcs_days/future_4p5_monthly/monthly_mcs_days_future_4p5_2097-2098.nc\n",
      "https://nimbus.niu.edu/climc23/mcs_days/future_4p5_monthly/monthly_mcs_days_future_4p5_2098-2099.nc\n",
      "https://nimbus.niu.edu/climc23/mcs_days/future_4p5_monthly/monthly_mcs_days_future_4p5_2099-2100.nc\n",
      "https://nimbus.niu.edu/climc23/mcs_days/future_8p5_monthly/monthly_mcs_days_future_8p5_2085-2086.nc\n",
      "https://nimbus.niu.edu/climc23/mcs_days/future_8p5_monthly/monthly_mcs_days_future_8p5_2086-2087.nc\n",
      "https://nimbus.niu.edu/climc23/mcs_days/future_8p5_monthly/monthly_mcs_days_future_8p5_2087-2088.nc\n",
      "https://nimbus.niu.edu/climc23/mcs_days/future_8p5_monthly/monthly_mcs_days_future_8p5_2088-2089.nc\n",
      "https://nimbus.niu.edu/climc23/mcs_days/future_8p5_monthly/monthly_mcs_days_future_8p5_2089-2090.nc\n",
      "https://nimbus.niu.edu/climc23/mcs_days/future_8p5_monthly/monthly_mcs_days_future_8p5_2090-2091.nc\n",
      "https://nimbus.niu.edu/climc23/mcs_days/future_8p5_monthly/monthly_mcs_days_future_8p5_2091-2092.nc\n",
      "https://nimbus.niu.edu/climc23/mcs_days/future_8p5_monthly/monthly_mcs_days_future_8p5_2092-2093.nc\n",
      "https://nimbus.niu.edu/climc23/mcs_days/future_8p5_monthly/monthly_mcs_days_future_8p5_2093-2094.nc\n",
      "https://nimbus.niu.edu/climc23/mcs_days/future_8p5_monthly/monthly_mcs_days_future_8p5_2094-2095.nc\n",
      "https://nimbus.niu.edu/climc23/mcs_days/future_8p5_monthly/monthly_mcs_days_future_8p5_2095-2096.nc\n",
      "https://nimbus.niu.edu/climc23/mcs_days/future_8p5_monthly/monthly_mcs_days_future_8p5_2096-2097.nc\n",
      "https://nimbus.niu.edu/climc23/mcs_days/future_8p5_monthly/monthly_mcs_days_future_8p5_2097-2098.nc\n",
      "https://nimbus.niu.edu/climc23/mcs_days/future_8p5_monthly/monthly_mcs_days_future_8p5_2098-2099.nc\n",
      "https://nimbus.niu.edu/climc23/mcs_days/future_8p5_monthly/monthly_mcs_days_future_8p5_2099-2100.nc\n",
      "https://nimbus.niu.edu/climc23/geog/CONUS.cpg\n",
      "https://nimbus.niu.edu/climc23/geog/CONUS.dbf\n",
      "https://nimbus.niu.edu/climc23/geog/CONUS.prj\n",
      "https://nimbus.niu.edu/climc23/geog/CONUS.sbn\n",
      "https://nimbus.niu.edu/climc23/geog/CONUS.sbx\n",
      "https://nimbus.niu.edu/climc23/geog/CONUS.shp\n",
      "https://nimbus.niu.edu/climc23/geog/CONUS.shp.xml\n",
      "https://nimbus.niu.edu/climc23/geog/CONUS.shx\n"
     ]
    }
   ],
   "source": [
    "from download_files import download, download_geography\n",
    "\n",
    "#follow the download links and put the netcdfs in the folder of your choice\n",
    "\n",
    "#modify the code below to reflect these changes\n",
    "download(analysis='mcs_days', subset='historical_monthly', print_urls=True)\n",
    "download(analysis='mcs_days', subset='future_4p5_monthly', print_urls=True)\n",
    "download(analysis='mcs_days', subset='future_8p5_monthly', print_urls=True)\n",
    "download_geography(print_urls=True)"
   ]
  },
  {
   "cell_type": "markdown",
   "id": "f120b900-7f31-4260-a1b4-0d3a4171244a",
   "metadata": {},
   "source": [
    "## Automated option (recommended)\n",
    "\n",
    "### Geography"
   ]
  },
  {
   "cell_type": "code",
   "execution_count": 2,
   "id": "f722ea61-8d12-4b62-ab28-6c32325cda17",
   "metadata": {},
   "outputs": [
    {
     "name": "stdout",
     "output_type": "stream",
     "text": [
      "Downloaded ../data/geog/CONUS.cpg\n",
      "Downloaded ../data/geog/CONUS.dbf\n",
      "Downloaded ../data/geog/CONUS.prj\n",
      "Downloaded ../data/geog/CONUS.sbn\n",
      "Downloaded ../data/geog/CONUS.sbx\n",
      "Downloaded ../data/geog/CONUS.shp\n",
      "Downloaded ../data/geog/CONUS.shp.xml\n",
      "Downloaded ../data/geog/CONUS.shx\n"
     ]
    }
   ],
   "source": [
    "download_geography(data_dir=\"../data\", verbose=True, create_dirs=True)"
   ]
  },
  {
   "cell_type": "markdown",
   "id": "8a45e808-9a80-441c-9605-5d9e8e3265d4",
   "metadata": {},
   "source": [
    "# Monthly MCS days"
   ]
  },
  {
   "cell_type": "code",
   "execution_count": 3,
   "id": "80e03493-dbe5-46aa-aba6-71519950f883",
   "metadata": {},
   "outputs": [
    {
     "name": "stdout",
     "output_type": "stream",
     "text": [
      "Downloaded ../data/mcs_days/historical_monthly/monthly_mcs_days_historical_1990-1991.nc\n",
      "Downloaded ../data/mcs_days/historical_monthly/monthly_mcs_days_historical_1991-1992.nc\n",
      "Downloaded ../data/mcs_days/historical_monthly/monthly_mcs_days_historical_1992-1993.nc\n",
      "Downloaded ../data/mcs_days/historical_monthly/monthly_mcs_days_historical_1993-1994.nc\n",
      "Downloaded ../data/mcs_days/historical_monthly/monthly_mcs_days_historical_1994-1995.nc\n",
      "Downloaded ../data/mcs_days/historical_monthly/monthly_mcs_days_historical_1995-1996.nc\n",
      "Downloaded ../data/mcs_days/historical_monthly/monthly_mcs_days_historical_1996-1997.nc\n",
      "Downloaded ../data/mcs_days/historical_monthly/monthly_mcs_days_historical_1997-1998.nc\n",
      "Downloaded ../data/mcs_days/historical_monthly/monthly_mcs_days_historical_1998-1999.nc\n",
      "Downloaded ../data/mcs_days/historical_monthly/monthly_mcs_days_historical_1999-2000.nc\n",
      "Downloaded ../data/mcs_days/historical_monthly/monthly_mcs_days_historical_2000-2001.nc\n",
      "Downloaded ../data/mcs_days/historical_monthly/monthly_mcs_days_historical_2001-2002.nc\n",
      "Downloaded ../data/mcs_days/historical_monthly/monthly_mcs_days_historical_2002-2003.nc\n",
      "Downloaded ../data/mcs_days/historical_monthly/monthly_mcs_days_historical_2003-2004.nc\n",
      "Downloaded ../data/mcs_days/historical_monthly/monthly_mcs_days_historical_2004-2005.nc\n",
      "Downloaded ../data/mcs_days/future_4p5_monthly/monthly_mcs_days_future_4p5_2085-2086.nc\n",
      "Downloaded ../data/mcs_days/future_4p5_monthly/monthly_mcs_days_future_4p5_2086-2087.nc\n",
      "Downloaded ../data/mcs_days/future_4p5_monthly/monthly_mcs_days_future_4p5_2087-2088.nc\n",
      "Downloaded ../data/mcs_days/future_4p5_monthly/monthly_mcs_days_future_4p5_2088-2089.nc\n",
      "Downloaded ../data/mcs_days/future_4p5_monthly/monthly_mcs_days_future_4p5_2089-2090.nc\n",
      "Downloaded ../data/mcs_days/future_4p5_monthly/monthly_mcs_days_future_4p5_2090-2091.nc\n",
      "Downloaded ../data/mcs_days/future_4p5_monthly/monthly_mcs_days_future_4p5_2091-2092.nc\n",
      "Downloaded ../data/mcs_days/future_4p5_monthly/monthly_mcs_days_future_4p5_2092-2093.nc\n",
      "Downloaded ../data/mcs_days/future_4p5_monthly/monthly_mcs_days_future_4p5_2093-2094.nc\n",
      "Downloaded ../data/mcs_days/future_4p5_monthly/monthly_mcs_days_future_4p5_2094-2095.nc\n",
      "Downloaded ../data/mcs_days/future_4p5_monthly/monthly_mcs_days_future_4p5_2095-2096.nc\n",
      "Downloaded ../data/mcs_days/future_4p5_monthly/monthly_mcs_days_future_4p5_2096-2097.nc\n",
      "Downloaded ../data/mcs_days/future_4p5_monthly/monthly_mcs_days_future_4p5_2097-2098.nc\n",
      "Downloaded ../data/mcs_days/future_4p5_monthly/monthly_mcs_days_future_4p5_2098-2099.nc\n",
      "Downloaded ../data/mcs_days/future_4p5_monthly/monthly_mcs_days_future_4p5_2099-2100.nc\n",
      "Downloaded ../data/mcs_days/future_8p5_monthly/monthly_mcs_days_future_8p5_2085-2086.nc\n",
      "Downloaded ../data/mcs_days/future_8p5_monthly/monthly_mcs_days_future_8p5_2086-2087.nc\n",
      "Downloaded ../data/mcs_days/future_8p5_monthly/monthly_mcs_days_future_8p5_2087-2088.nc\n",
      "Downloaded ../data/mcs_days/future_8p5_monthly/monthly_mcs_days_future_8p5_2088-2089.nc\n",
      "Downloaded ../data/mcs_days/future_8p5_monthly/monthly_mcs_days_future_8p5_2089-2090.nc\n",
      "Downloaded ../data/mcs_days/future_8p5_monthly/monthly_mcs_days_future_8p5_2090-2091.nc\n",
      "Downloaded ../data/mcs_days/future_8p5_monthly/monthly_mcs_days_future_8p5_2091-2092.nc\n",
      "Downloaded ../data/mcs_days/future_8p5_monthly/monthly_mcs_days_future_8p5_2092-2093.nc\n",
      "Downloaded ../data/mcs_days/future_8p5_monthly/monthly_mcs_days_future_8p5_2093-2094.nc\n",
      "Downloaded ../data/mcs_days/future_8p5_monthly/monthly_mcs_days_future_8p5_2094-2095.nc\n",
      "Downloaded ../data/mcs_days/future_8p5_monthly/monthly_mcs_days_future_8p5_2095-2096.nc\n",
      "Downloaded ../data/mcs_days/future_8p5_monthly/monthly_mcs_days_future_8p5_2096-2097.nc\n",
      "Downloaded ../data/mcs_days/future_8p5_monthly/monthly_mcs_days_future_8p5_2097-2098.nc\n",
      "Downloaded ../data/mcs_days/future_8p5_monthly/monthly_mcs_days_future_8p5_2098-2099.nc\n",
      "Downloaded ../data/mcs_days/future_8p5_monthly/monthly_mcs_days_future_8p5_2099-2100.nc\n"
     ]
    }
   ],
   "source": [
    "from download_files import download, download_geography\n",
    "\n",
    "#This will automatically create directories and download the files for you\n",
    "download(analysis='mcs_days', subset='historical_monthly', data_dir=\"../data\", verbose=True, create_dirs=True)\n",
    "download(analysis='mcs_days', subset='future_4p5_monthly', data_dir=\"../data\", verbose=True,  create_dirs=True)\n",
    "download(analysis='mcs_days', subset='future_8p5_monthly', data_dir=\"../data\", verbose=True,  create_dirs=True) "
   ]
  },
  {
   "cell_type": "markdown",
   "id": "5c2061b2-ad6f-467a-87c2-3067ab3332d4",
   "metadata": {},
   "source": [
    "### Monthly MCS days per 6-hr periods"
   ]
  },
  {
   "cell_type": "code",
   "execution_count": 4,
   "id": "6cd3dda0-dff1-4580-8318-76c59daa0864",
   "metadata": {},
   "outputs": [
    {
     "name": "stdout",
     "output_type": "stream",
     "text": [
      "Downloaded ../data/mcs_days/historical_hour_bin_month/mcs_freq_hour_bin_month_historical_1990-1991.nc\n",
      "Downloaded ../data/mcs_days/historical_hour_bin_month/mcs_freq_hour_bin_month_historical_1991-1992.nc\n",
      "Downloaded ../data/mcs_days/historical_hour_bin_month/mcs_freq_hour_bin_month_historical_1992-1993.nc\n",
      "Downloaded ../data/mcs_days/historical_hour_bin_month/mcs_freq_hour_bin_month_historical_1993-1994.nc\n",
      "Downloaded ../data/mcs_days/historical_hour_bin_month/mcs_freq_hour_bin_month_historical_1994-1995.nc\n",
      "Downloaded ../data/mcs_days/historical_hour_bin_month/mcs_freq_hour_bin_month_historical_1995-1996.nc\n",
      "Downloaded ../data/mcs_days/historical_hour_bin_month/mcs_freq_hour_bin_month_historical_1996-1997.nc\n",
      "Downloaded ../data/mcs_days/historical_hour_bin_month/mcs_freq_hour_bin_month_historical_1997-1998.nc\n",
      "Downloaded ../data/mcs_days/historical_hour_bin_month/mcs_freq_hour_bin_month_historical_1998-1999.nc\n",
      "Downloaded ../data/mcs_days/historical_hour_bin_month/mcs_freq_hour_bin_month_historical_1999-2000.nc\n",
      "Downloaded ../data/mcs_days/historical_hour_bin_month/mcs_freq_hour_bin_month_historical_2000-2001.nc\n",
      "Downloaded ../data/mcs_days/historical_hour_bin_month/mcs_freq_hour_bin_month_historical_2001-2002.nc\n",
      "Downloaded ../data/mcs_days/historical_hour_bin_month/mcs_freq_hour_bin_month_historical_2002-2003.nc\n",
      "Downloaded ../data/mcs_days/historical_hour_bin_month/mcs_freq_hour_bin_month_historical_2003-2004.nc\n",
      "Downloaded ../data/mcs_days/historical_hour_bin_month/mcs_freq_hour_bin_month_historical_2004-2005.nc\n",
      "Downloaded ../data/mcs_days/future_4p5_hour_bin_month/mcs_freq_hour_bin_month_future_4p5_2085-2086.nc\n",
      "Downloaded ../data/mcs_days/future_4p5_hour_bin_month/mcs_freq_hour_bin_month_future_4p5_2086-2087.nc\n",
      "Downloaded ../data/mcs_days/future_4p5_hour_bin_month/mcs_freq_hour_bin_month_future_4p5_2087-2088.nc\n",
      "Downloaded ../data/mcs_days/future_4p5_hour_bin_month/mcs_freq_hour_bin_month_future_4p5_2088-2089.nc\n",
      "Downloaded ../data/mcs_days/future_4p5_hour_bin_month/mcs_freq_hour_bin_month_future_4p5_2089-2090.nc\n",
      "Downloaded ../data/mcs_days/future_4p5_hour_bin_month/mcs_freq_hour_bin_month_future_4p5_2090-2091.nc\n",
      "Downloaded ../data/mcs_days/future_4p5_hour_bin_month/mcs_freq_hour_bin_month_future_4p5_2091-2092.nc\n",
      "Downloaded ../data/mcs_days/future_4p5_hour_bin_month/mcs_freq_hour_bin_month_future_4p5_2092-2093.nc\n",
      "Downloaded ../data/mcs_days/future_4p5_hour_bin_month/mcs_freq_hour_bin_month_future_4p5_2093-2094.nc\n",
      "Downloaded ../data/mcs_days/future_4p5_hour_bin_month/mcs_freq_hour_bin_month_future_4p5_2094-2095.nc\n",
      "Downloaded ../data/mcs_days/future_4p5_hour_bin_month/mcs_freq_hour_bin_month_future_4p5_2095-2096.nc\n",
      "Downloaded ../data/mcs_days/future_4p5_hour_bin_month/mcs_freq_hour_bin_month_future_4p5_2096-2097.nc\n",
      "Downloaded ../data/mcs_days/future_4p5_hour_bin_month/mcs_freq_hour_bin_month_future_4p5_2097-2098.nc\n",
      "Downloaded ../data/mcs_days/future_4p5_hour_bin_month/mcs_freq_hour_bin_month_future_4p5_2098-2099.nc\n",
      "Downloaded ../data/mcs_days/future_4p5_hour_bin_month/mcs_freq_hour_bin_month_future_4p5_2099-2100.nc\n",
      "Downloaded ../data/mcs_days/future_8p5_hour_bin_month/mcs_freq_hour_bin_month_future_8p5_2085-2086.nc\n",
      "Downloaded ../data/mcs_days/future_8p5_hour_bin_month/mcs_freq_hour_bin_month_future_8p5_2086-2087.nc\n",
      "Downloaded ../data/mcs_days/future_8p5_hour_bin_month/mcs_freq_hour_bin_month_future_8p5_2087-2088.nc\n",
      "Downloaded ../data/mcs_days/future_8p5_hour_bin_month/mcs_freq_hour_bin_month_future_8p5_2088-2089.nc\n",
      "Downloaded ../data/mcs_days/future_8p5_hour_bin_month/mcs_freq_hour_bin_month_future_8p5_2089-2090.nc\n",
      "Downloaded ../data/mcs_days/future_8p5_hour_bin_month/mcs_freq_hour_bin_month_future_8p5_2090-2091.nc\n",
      "Downloaded ../data/mcs_days/future_8p5_hour_bin_month/mcs_freq_hour_bin_month_future_8p5_2091-2092.nc\n",
      "Downloaded ../data/mcs_days/future_8p5_hour_bin_month/mcs_freq_hour_bin_month_future_8p5_2092-2093.nc\n",
      "Downloaded ../data/mcs_days/future_8p5_hour_bin_month/mcs_freq_hour_bin_month_future_8p5_2093-2094.nc\n",
      "Downloaded ../data/mcs_days/future_8p5_hour_bin_month/mcs_freq_hour_bin_month_future_8p5_2094-2095.nc\n",
      "Downloaded ../data/mcs_days/future_8p5_hour_bin_month/mcs_freq_hour_bin_month_future_8p5_2095-2096.nc\n",
      "Downloaded ../data/mcs_days/future_8p5_hour_bin_month/mcs_freq_hour_bin_month_future_8p5_2096-2097.nc\n",
      "Downloaded ../data/mcs_days/future_8p5_hour_bin_month/mcs_freq_hour_bin_month_future_8p5_2097-2098.nc\n",
      "Downloaded ../data/mcs_days/future_8p5_hour_bin_month/mcs_freq_hour_bin_month_future_8p5_2098-2099.nc\n",
      "Downloaded ../data/mcs_days/future_8p5_hour_bin_month/mcs_freq_hour_bin_month_future_8p5_2099-2100.nc\n"
     ]
    }
   ],
   "source": [
    "from download_files import download, download_geography\n",
    "\n",
    "#This will automatically create directories and download the files for you\n",
    "download(analysis='mcs_days', subset='historical_hour_bin_month', data_dir=\"../data\", verbose=True, create_dirs=True)\n",
    "download(analysis='mcs_days', subset='future_4p5_hour_bin_month', data_dir=\"../data\", verbose=True, create_dirs=True)\n",
    "download(analysis='mcs_days', subset='future_8p5_hour_bin_month', data_dir=\"../data\", verbose=True, create_dirs=True) "
   ]
  },
  {
   "cell_type": "markdown",
   "id": "24b46f94-4fee-4624-b66a-d8fc05e570bd",
   "metadata": {},
   "source": [
    "### Download annual MCS precipitation"
   ]
  },
  {
   "cell_type": "code",
   "execution_count": 5,
   "id": "abf909a8-301d-4075-b317-862bb2640a39",
   "metadata": {},
   "outputs": [
    {
     "name": "stdout",
     "output_type": "stream",
     "text": [
      "Downloaded ../data/mcs_precip/historical_annual/mcs_precip_historical_years_sums_75km.nc\n",
      "Downloaded ../data/mcs_precip/future_4p5_annual/mcs_precip_future_4p5_years_sums_75km.nc\n",
      "Downloaded ../data/mcs_precip/future_8p5_annual/mcs_precip_future_8p5_years_sums_75km.nc\n"
     ]
    }
   ],
   "source": [
    "from download_files import download, download_geography\n",
    "\n",
    "#This will automatically create directories and download the files for you\n",
    "download(analysis='mcs_precip', subset='historical_annual', data_dir=\"../data\", verbose=True, create_dirs=True)\n",
    "download(analysis='mcs_precip', subset='future_4p5_annual', data_dir=\"../data\", verbose=True,  create_dirs=True)\n",
    "download(analysis='mcs_precip', subset='future_8p5_annual', data_dir=\"../data\", verbose=True,  create_dirs=True) "
   ]
  },
  {
   "cell_type": "markdown",
   "id": "d21b4db8-e489-4853-9668-cc14ec4eb181",
   "metadata": {},
   "source": [
    "### Download seasonal MCS precipitation"
   ]
  },
  {
   "cell_type": "code",
   "execution_count": 6,
   "id": "53bbaa12-0276-406f-9019-ac9bc6d099c3",
   "metadata": {},
   "outputs": [
    {
     "name": "stdout",
     "output_type": "stream",
     "text": [
      "Downloaded ../data/mcs_precip/historical_seasonal/mcs_precip_historical_DJF_sums_75km.nc\n",
      "Downloaded ../data/mcs_precip/historical_seasonal/mcs_precip_historical_JJA_sums_75km.nc\n",
      "Downloaded ../data/mcs_precip/historical_seasonal/mcs_precip_historical_MAM_sums_75km.nc\n",
      "Downloaded ../data/mcs_precip/historical_seasonal/mcs_precip_historical_SON_sums_75km.nc\n",
      "Downloaded ../data/mcs_precip/future_4p5_seasonal/mcs_precip_future_4p5_DJF_sums_75km.nc\n",
      "Downloaded ../data/mcs_precip/future_4p5_seasonal/mcs_precip_future_4p5_JJA_sums_75km.nc\n",
      "Downloaded ../data/mcs_precip/future_4p5_seasonal/mcs_precip_future_4p5_MAM_sums_75km.nc\n",
      "Downloaded ../data/mcs_precip/future_4p5_seasonal/mcs_precip_future_4p5_SON_sums_75km.nc\n",
      "Downloaded ../data/mcs_precip/future_8p5_seasonal/mcs_precip_future_8p5_DJF_sums_75km.nc\n",
      "Downloaded ../data/mcs_precip/future_8p5_seasonal/mcs_precip_future_8p5_JJA_sums_75km.nc\n",
      "Downloaded ../data/mcs_precip/future_8p5_seasonal/mcs_precip_future_8p5_MAM_sums_75km.nc\n",
      "Downloaded ../data/mcs_precip/future_8p5_seasonal/mcs_precip_future_8p5_SON_sums_75km.nc\n"
     ]
    }
   ],
   "source": [
    "from download_files import download, download_geography\n",
    "\n",
    "#This will automatically create directories and download the files for you\n",
    "download(analysis='mcs_precip', subset='historical_seasonal', data_dir=\"../data\", verbose=True, create_dirs=True)\n",
    "download(analysis='mcs_precip', subset='future_4p5_seasonal', data_dir=\"../data\", verbose=True,  create_dirs=True)\n",
    "download(analysis='mcs_precip', subset='future_8p5_seasonal', data_dir=\"../data\", verbose=True,  create_dirs=True) "
   ]
  },
  {
   "cell_type": "markdown",
   "id": "a4db82dc-fbd1-479e-a231-bce2c3c0f9ab",
   "metadata": {},
   "source": [
    "# Download monthly data"
   ]
  },
  {
   "cell_type": "code",
   "execution_count": 7,
   "id": "18909527-2901-488c-af40-078b34739624",
   "metadata": {},
   "outputs": [
    {
     "name": "stdout",
     "output_type": "stream",
     "text": [
      "Downloaded ../data/mcs_precip/historical_monthly/mcs_precip_monthly_historical_1990-1991.nc\n",
      "Downloaded ../data/mcs_precip/historical_monthly/mcs_precip_monthly_historical_1991-1992.nc\n",
      "Downloaded ../data/mcs_precip/historical_monthly/mcs_precip_monthly_historical_1992-1993.nc\n",
      "Downloaded ../data/mcs_precip/historical_monthly/mcs_precip_monthly_historical_1993-1994.nc\n",
      "Downloaded ../data/mcs_precip/historical_monthly/mcs_precip_monthly_historical_1994-1995.nc\n",
      "Downloaded ../data/mcs_precip/historical_monthly/mcs_precip_monthly_historical_1995-1996.nc\n",
      "Downloaded ../data/mcs_precip/historical_monthly/mcs_precip_monthly_historical_1996-1997.nc\n",
      "Downloaded ../data/mcs_precip/historical_monthly/mcs_precip_monthly_historical_1997-1998.nc\n",
      "Downloaded ../data/mcs_precip/historical_monthly/mcs_precip_monthly_historical_1998-1999.nc\n",
      "Downloaded ../data/mcs_precip/historical_monthly/mcs_precip_monthly_historical_1999-2000.nc\n",
      "Downloaded ../data/mcs_precip/historical_monthly/mcs_precip_monthly_historical_2000-2001.nc\n",
      "Downloaded ../data/mcs_precip/historical_monthly/mcs_precip_monthly_historical_2001-2002.nc\n",
      "Downloaded ../data/mcs_precip/historical_monthly/mcs_precip_monthly_historical_2002-2003.nc\n",
      "Downloaded ../data/mcs_precip/historical_monthly/mcs_precip_monthly_historical_2003-2004.nc\n",
      "Downloaded ../data/mcs_precip/historical_monthly/mcs_precip_monthly_historical_2004-2005.nc\n",
      "Downloaded ../data/mcs_precip/future_4p5_monthly/mcs_precip_monthly_future_4p5_2085-2086.nc\n",
      "Downloaded ../data/mcs_precip/future_4p5_monthly/mcs_precip_monthly_future_4p5_2086-2087.nc\n",
      "Downloaded ../data/mcs_precip/future_4p5_monthly/mcs_precip_monthly_future_4p5_2087-2088.nc\n",
      "Downloaded ../data/mcs_precip/future_4p5_monthly/mcs_precip_monthly_future_4p5_2088-2089.nc\n",
      "Downloaded ../data/mcs_precip/future_4p5_monthly/mcs_precip_monthly_future_4p5_2089-2090.nc\n",
      "Downloaded ../data/mcs_precip/future_4p5_monthly/mcs_precip_monthly_future_4p5_2090-2091.nc\n",
      "Downloaded ../data/mcs_precip/future_4p5_monthly/mcs_precip_monthly_future_4p5_2091-2092.nc\n",
      "Downloaded ../data/mcs_precip/future_4p5_monthly/mcs_precip_monthly_future_4p5_2092-2093.nc\n",
      "Downloaded ../data/mcs_precip/future_4p5_monthly/mcs_precip_monthly_future_4p5_2093-2094.nc\n",
      "Downloaded ../data/mcs_precip/future_4p5_monthly/mcs_precip_monthly_future_4p5_2094-2095.nc\n",
      "Downloaded ../data/mcs_precip/future_4p5_monthly/mcs_precip_monthly_future_4p5_2095-2096.nc\n",
      "Downloaded ../data/mcs_precip/future_4p5_monthly/mcs_precip_monthly_future_4p5_2096-2097.nc\n",
      "Downloaded ../data/mcs_precip/future_4p5_monthly/mcs_precip_monthly_future_4p5_2097-2098.nc\n",
      "Downloaded ../data/mcs_precip/future_4p5_monthly/mcs_precip_monthly_future_4p5_2098-2099.nc\n",
      "Downloaded ../data/mcs_precip/future_4p5_monthly/mcs_precip_monthly_future_4p5_2099-2100.nc\n",
      "Downloaded ../data/mcs_precip/future_8p5_monthly/mcs_precip_monthly_future_8p5_2085-2086.nc\n",
      "Downloaded ../data/mcs_precip/future_8p5_monthly/mcs_precip_monthly_future_8p5_2086-2087.nc\n",
      "Downloaded ../data/mcs_precip/future_8p5_monthly/mcs_precip_monthly_future_8p5_2087-2088.nc\n",
      "Downloaded ../data/mcs_precip/future_8p5_monthly/mcs_precip_monthly_future_8p5_2088-2089.nc\n",
      "Downloaded ../data/mcs_precip/future_8p5_monthly/mcs_precip_monthly_future_8p5_2089-2090.nc\n",
      "Downloaded ../data/mcs_precip/future_8p5_monthly/mcs_precip_monthly_future_8p5_2090-2091.nc\n",
      "Downloaded ../data/mcs_precip/future_8p5_monthly/mcs_precip_monthly_future_8p5_2091-2092.nc\n",
      "Downloaded ../data/mcs_precip/future_8p5_monthly/mcs_precip_monthly_future_8p5_2092-2093.nc\n",
      "Downloaded ../data/mcs_precip/future_8p5_monthly/mcs_precip_monthly_future_8p5_2093-2094.nc\n",
      "Downloaded ../data/mcs_precip/future_8p5_monthly/mcs_precip_monthly_future_8p5_2094-2095.nc\n",
      "Downloaded ../data/mcs_precip/future_8p5_monthly/mcs_precip_monthly_future_8p5_2095-2096.nc\n",
      "Downloaded ../data/mcs_precip/future_8p5_monthly/mcs_precip_monthly_future_8p5_2096-2097.nc\n",
      "Downloaded ../data/mcs_precip/future_8p5_monthly/mcs_precip_monthly_future_8p5_2097-2098.nc\n",
      "Downloaded ../data/mcs_precip/future_8p5_monthly/mcs_precip_monthly_future_8p5_2098-2099.nc\n",
      "Downloaded ../data/mcs_precip/future_8p5_monthly/mcs_precip_monthly_future_8p5_2099-2100.nc\n"
     ]
    }
   ],
   "source": [
    "from download_files import download, download_geography\n",
    "\n",
    "#This will automatically create directories and download the files for you\n",
    "download(analysis='mcs_precip', subset='historical_monthly', data_dir=\"../data\", verbose=True, create_dirs=True)\n",
    "download(analysis='mcs_precip', subset='future_4p5_monthly', data_dir=\"../data\", verbose=True,  create_dirs=True)\n",
    "download(analysis='mcs_precip', subset='future_8p5_monthly', data_dir=\"../data\", verbose=True,  create_dirs=True) "
   ]
  }
 ],
 "metadata": {
  "kernelspec": {
   "display_name": "Python 3 (ipykernel)",
   "language": "python",
   "name": "python3"
  },
  "language_info": {
   "codemirror_mode": {
    "name": "ipython",
    "version": 3
   },
   "file_extension": ".py",
   "mimetype": "text/x-python",
   "name": "python",
   "nbconvert_exporter": "python",
   "pygments_lexer": "ipython3",
   "version": "3.10.13"
  }
 },
 "nbformat": 4,
 "nbformat_minor": 5
}
